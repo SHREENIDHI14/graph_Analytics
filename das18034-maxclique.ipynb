{
 "cells": [
  {
   "cell_type": "code",
   "execution_count": 1,
   "metadata": {
    "id": "IaZJAGSQsXJs"
   },
   "outputs": [],
   "source": [
    "import numpy as np"
   ]
  },
  {
   "cell_type": "code",
   "execution_count": 13,
   "metadata": {
    "id": "n70H5PyusvLF"
   },
   "outputs": [],
   "source": [
    "def maxclique(I):\n",
    "  A = sort_intervals(I)\n",
    "  cliq =0\n",
    "  maxcliq = 0\n",
    "  for i in range (len(A)):\n",
    "    if A[i,1] == 'L':\n",
    "      cliq =cliq+1\n",
    "    elif cliq > maxcliq:\n",
    "      maxcliq = cliq\n",
    "    else:\n",
    "      cliq =cliq-1\n",
    "  return maxcliq        "
   ]
  },
  {
   "cell_type": "code",
   "execution_count": 14,
   "metadata": {
    "id": "w2xvt4RBtNf2"
   },
   "outputs": [],
   "source": [
    "def sort_intervals(I):\n",
    "  A = np.array([[i,'L'] for i in I[:,0]]+[[i,'R']  for i in I[:,1]])\n",
    "  A = A[np.argsort(A[:,0])]\n",
    "  return  A"
   ]
  },
  {
   "cell_type": "code",
   "execution_count": 15,
   "metadata": {
    "id": "sTX3kS9rtnuI"
   },
   "outputs": [],
   "source": [
    "list=[[1,5],[3,3],[4,9],[6,9],[8,10],[11,13]]\n",
    "intervals = np.array(list)"
   ]
  },
  {
   "cell_type": "code",
   "execution_count": 11,
   "metadata": {
    "colab": {
     "base_uri": "https://localhost:8080/"
    },
    "id": "-dtNvlTLt68x",
    "outputId": "2d46d2f2-1fb2-4d4a-ac7e-8df86b6a7633"
   },
   "outputs": [
    {
     "data": {
      "text/plain": [
       "array([['1', 'L'],\n",
       "       ['10', 'R'],\n",
       "       ['11', 'L'],\n",
       "       ['13', 'R'],\n",
       "       ['3', 'L'],\n",
       "       ['3', 'R'],\n",
       "       ['4', 'L'],\n",
       "       ['5', 'R'],\n",
       "       ['6', 'L'],\n",
       "       ['8', 'L'],\n",
       "       ['9', 'R'],\n",
       "       ['9', 'R']], dtype='<U11')"
      ]
     },
     "execution_count": 11,
     "metadata": {},
     "output_type": "execute_result"
    }
   ],
   "source": [
    "sort_intervals(intervals)"
   ]
  },
  {
   "cell_type": "code",
   "execution_count": 12,
   "metadata": {
    "colab": {
     "base_uri": "https://localhost:8080/"
    },
    "id": "pqmVaUjnuUuP",
    "outputId": "a982dcea-b1ac-4c08-ed83-146a69b6d8bb"
   },
   "outputs": [
    {
     "name": "stdout",
     "output_type": "stream",
     "text": [
      "maximum cique for interval graph is : 6\n"
     ]
    }
   ],
   "source": [
    "result = maxclique(intervals)\n",
    "print(\"maximum cique for interval graph is :\",result)"
   ]
  },
  {
   "cell_type": "code",
   "execution_count": null,
   "metadata": {},
   "outputs": [],
   "source": []
  }
 ],
 "metadata": {
  "colab": {
   "name": "Maximum clique-DAS18036",
   "provenance": []
  },
  "kernelspec": {
   "display_name": "Python 3",
   "language": "python",
   "name": "python3"
  },
  "language_info": {
   "codemirror_mode": {
    "name": "ipython",
    "version": 3
   },
   "file_extension": ".py",
   "mimetype": "text/x-python",
   "name": "python",
   "nbconvert_exporter": "python",
   "pygments_lexer": "ipython3",
   "version": "3.8.5"
  }
 },
 "nbformat": 4,
 "nbformat_minor": 1
}
